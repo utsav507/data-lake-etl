{
 "cells": [
  {
   "cell_type": "code",
   "execution_count": 1,
   "metadata": {},
   "outputs": [
    {
     "data": {
      "application/vnd.jupyter.widget-view+json": {
       "model_id": "cf5c04f011d54597b0e514cc2577dd51",
       "version_major": 2,
       "version_minor": 0
      },
      "text/plain": [
       "VBox()"
      ]
     },
     "metadata": {},
     "output_type": "display_data"
    },
    {
     "name": "stdout",
     "output_type": "stream",
     "text": [
      "Starting Spark application\n"
     ]
    },
    {
     "data": {
      "text/html": [
       "<table>\n",
       "<tr><th>ID</th><th>YARN Application ID</th><th>Kind</th><th>State</th><th>Spark UI</th><th>Driver log</th><th>Current session?</th></tr><tr><td>1</td><td>application_1588436002990_0003</td><td>pyspark</td><td>idle</td><td><a target=\"_blank\" href=\"http://ip-172-31-89-138.ec2.internal:20888/proxy/application_1588436002990_0003/\">Link</a></td><td><a target=\"_blank\" href=\"http://ip-172-31-92-221.ec2.internal:8042/node/containerlogs/container_1588436002990_0003_01_000001/livy\">Link</a></td><td>✔</td></tr></table>"
      ],
      "text/plain": [
       "<IPython.core.display.HTML object>"
      ]
     },
     "metadata": {},
     "output_type": "display_data"
    },
    {
     "data": {
      "application/vnd.jupyter.widget-view+json": {
       "model_id": "",
       "version_major": 2,
       "version_minor": 0
      },
      "text/plain": [
       "FloatProgress(value=0.0, bar_style='info', description='Progress:', layout=Layout(height='25px', width='50%'),…"
      ]
     },
     "metadata": {},
     "output_type": "display_data"
    },
    {
     "name": "stdout",
     "output_type": "stream",
     "text": [
      "SparkSession available as 'spark'.\n"
     ]
    },
    {
     "data": {
      "application/vnd.jupyter.widget-view+json": {
       "model_id": "",
       "version_major": 2,
       "version_minor": 0
      },
      "text/plain": [
       "FloatProgress(value=0.0, bar_style='info', description='Progress:', layout=Layout(height='25px', width='50%'),…"
      ]
     },
     "metadata": {},
     "output_type": "display_data"
    }
   ],
   "source": [
    "import configparser\n",
    "from datetime import datetime\n",
    "import os\n",
    "from pyspark.sql import SparkSession\n",
    "from pyspark.sql.functions import udf, col\n",
    "from pyspark.sql.functions import year, month, dayofmonth, hour, weekofyear, date_format\n",
    "from pyspark.sql.functions import monotonically_increasing_id\n",
    "from pyspark.sql.types import StructType as R, StructField as Fld, DoubleType as Dbl, StringType as Str, IntegerType as Int, DateType as Dat, TimestampType as E\n",
    "from pyspark.sql.functions import unix_timestamp, from_unixtime\n",
    "\n",
    "\n",
    "#config = configparser.ConfigParser()\n",
    "#config.read('dl.cfg')\n",
    "\n",
    "#os.environ['AWS_ACCESS_KEY_ID']=config['AWS_ACCESS_KEY_ID']\n",
    "#os.environ['AWS_SECRET_ACCESS_KEY']=config['AWS_SECRET_ACCESS_KEY']"
   ]
  },
  {
   "cell_type": "code",
   "execution_count": 2,
   "metadata": {},
   "outputs": [
    {
     "data": {
      "application/vnd.jupyter.widget-view+json": {
       "model_id": "2d35f074814e4b308fe5ad7073ac603e",
       "version_major": 2,
       "version_minor": 0
      },
      "text/plain": [
       "VBox()"
      ]
     },
     "metadata": {},
     "output_type": "display_data"
    },
    {
     "data": {
      "application/vnd.jupyter.widget-view+json": {
       "model_id": "",
       "version_major": 2,
       "version_minor": 0
      },
      "text/plain": [
       "FloatProgress(value=0.0, bar_style='info', description='Progress:', layout=Layout(height='25px', width='50%'),…"
      ]
     },
     "metadata": {},
     "output_type": "display_data"
    }
   ],
   "source": [
    "def create_spark_session():\n",
    "    \"\"\"\n",
    "        Create or retrieve a Spark Session\n",
    "    \"\"\"\n",
    "    spark = SparkSession \\\n",
    "        .builder \\\n",
    "        .config(\"spark.jars.packages\", \"org.apache.hadoop:hadoop-aws:2.7.0\") \\\n",
    "        .getOrCreate()\n",
    "    return spark"
   ]
  },
  {
   "cell_type": "code",
   "execution_count": 3,
   "metadata": {},
   "outputs": [
    {
     "data": {
      "application/vnd.jupyter.widget-view+json": {
       "model_id": "249a5e4ad83141eca5166242894a11ab",
       "version_major": 2,
       "version_minor": 0
      },
      "text/plain": [
       "VBox()"
      ]
     },
     "metadata": {},
     "output_type": "display_data"
    },
    {
     "data": {
      "application/vnd.jupyter.widget-view+json": {
       "model_id": "",
       "version_major": 2,
       "version_minor": 0
      },
      "text/plain": [
       "FloatProgress(value=0.0, bar_style='info', description='Progress:', layout=Layout(height='25px', width='50%'),…"
      ]
     },
     "metadata": {},
     "output_type": "display_data"
    }
   ],
   "source": [
    "def process_song_data(spark, input_data, output_data):\n",
    "    \"\"\"\n",
    "        Description: This function loads song_data from S3 and processes it by extracting the\n",
    "        songs and artist tables and then again loaded back to S3.\n",
    "        \n",
    "        Parameters:\n",
    "            spark       : Spark Session\n",
    "            input_data  : location of song_data json files with the songs metadata\n",
    "            output_data : S3 bucket were dimensional tables in parquet format will be stored\n",
    "    \"\"\"\n",
    "    \n",
    "    # filepath to song data file\n",
    "    song_data = input_data + 'song_data/A/A/*/*.json'\n",
    "    \n",
    "    # define schema\n",
    "    songSchema = R([\n",
    "        Fld(\"artist_id\",Str()),\n",
    "        Fld(\"artist_latitude\",Dbl()),\n",
    "        Fld(\"artist_location\",Str()),\n",
    "        Fld(\"artist_longitude\",Dbl()),\n",
    "        Fld(\"artist_name\",Str()),\n",
    "        Fld(\"duration\",Dbl()),\n",
    "        Fld(\"num_songs\",Int()),\n",
    "        Fld(\"title\",Str()),\n",
    "        Fld(\"year\",Int()),\n",
    "    ])\n",
    "                      \n",
    "    # read song data file\n",
    "    df = spark.read.json(song_data, schema=songSchema)\n",
    "    \n",
    "    # definte song fields\n",
    "    song_fields = [\"title\", \"artist_id\", \"year\", \"duration\"]\n",
    "                      \n",
    "    # extract columns to create songs table\n",
    "    songs_table = df.select(song_fields).dropDuplicates().withColumn(\"song_id\", monotonically_increasing_id())\n",
    "    \n",
    "    # write songs table to parquet files partitioned by year and artist\n",
    "    songs_table.write.partitionBy(\"year\", \"artist_id\").parquet(output_data + 'songs/')\n",
    "\n",
    "    # define artist fields\n",
    "    artists_fields = [\"artist_id\", \"artist_name as name\", \"artist_location as location\", \"artist_latitude as latitude\", \"artist_longitude as longitude\"]\n",
    "                      \n",
    "    # extract columns to create artists table\n",
    "    artists_table = df.selectExpr(artists_fields).dropDuplicates()\n",
    "    \n",
    "    # write artists table to parquet files\n",
    "    artists_table.write.parquet(output_data + 'artists/')\n"
   ]
  },
  {
   "cell_type": "code",
   "execution_count": 4,
   "metadata": {},
   "outputs": [
    {
     "data": {
      "application/vnd.jupyter.widget-view+json": {
       "model_id": "0b852e349f4e438888df988beb8deb7a",
       "version_major": 2,
       "version_minor": 0
      },
      "text/plain": [
       "VBox()"
      ]
     },
     "metadata": {},
     "output_type": "display_data"
    },
    {
     "data": {
      "application/vnd.jupyter.widget-view+json": {
       "model_id": "",
       "version_major": 2,
       "version_minor": 0
      },
      "text/plain": [
       "FloatProgress(value=0.0, bar_style='info', description='Progress:', layout=Layout(height='25px', width='50%'),…"
      ]
     },
     "metadata": {},
     "output_type": "display_data"
    }
   ],
   "source": [
    "# spark = create_spark_session()\n",
    "# input_data = \"s3a://udacity-dend/\"\n",
    "# output_data = \"s3a://sparkify-data-lake-dend/\"\n",
    "\n",
    "# log_data = input_data + 'log_data/2018/11/2018-11-02-events.json'\n",
    "\n",
    "# # read log data file\n",
    "# df = spark.read.json(log_data)\n",
    "\n",
    "# # filter by actions for song plays\n",
    "# df = df.filter(df.page == 'NextSong')\n",
    "\n",
    "# get_datetime = udf(date_format, TimestampType())\n",
    "# df = df.withColumn(\"start_time\", get_datetime('ts'))\n",
    "\n",
    "# time_table = df.select(\"start_time\").dropDuplicates() \\\n",
    "#                 .withColumn(\"hour\", hour(col(\"start_time\"))) \\\n",
    "#                 .withColumn(\"day\", dayofmonth(col(\"start_time\"))) \\\n",
    "#                 .withColumn(\"week\", weekofyear(col(\"start_time\"))) \\\n",
    "#                 .withColumn(\"month\", month(col(\"start_time\"))) \\\n",
    "#                 .withColumn(\"year\", year(col(\"start_time\"))) \\\n",
    "#                 .withColumn(\"weekday\", date_format(col(\"start_time\"), 'E'))"
   ]
  },
  {
   "cell_type": "code",
   "execution_count": 5,
   "metadata": {},
   "outputs": [
    {
     "data": {
      "application/vnd.jupyter.widget-view+json": {
       "model_id": "7e4c740df94743e48dc44cc2df8a26e5",
       "version_major": 2,
       "version_minor": 0
      },
      "text/plain": [
       "VBox()"
      ]
     },
     "metadata": {},
     "output_type": "display_data"
    },
    {
     "data": {
      "application/vnd.jupyter.widget-view+json": {
       "model_id": "",
       "version_major": 2,
       "version_minor": 0
      },
      "text/plain": [
       "FloatProgress(value=0.0, bar_style='info', description='Progress:', layout=Layout(height='25px', width='50%'),…"
      ]
     },
     "metadata": {},
     "output_type": "display_data"
    }
   ],
   "source": [
    "def process_log_data(spark, input_data, output_data):\n",
    "    \"\"\"\n",
    "        Description: This function loads log_data from S3 and processes it by extracting the songs and artist tables\n",
    "        and then again loaded back to S3. Also output from previous function is used in by spark.read.json command\n",
    "        \n",
    "        Parameters:\n",
    "            spark       : Spark Session\n",
    "            input_data  : location of log_data json files with the events data\n",
    "            output_data : S3 bucket were dimensional tables in parquet format will be stored     \n",
    "    \"\"\"\n",
    "                      \n",
    "    # get filepath to log data file\n",
    "    log_data = input_data + 'log_data/A/A/*.json'\n",
    "\n",
    "    # read log data file\n",
    "    df = spark.read.json(log_data)\n",
    "    \n",
    "    # filter by actions for song plays\n",
    "    df = df.filter(df.page == 'NextSong')\n",
    "\n",
    "    users_fields = [\"userId as user_id\", \"firstName as first_name\", \"lastName as last_name\", \"gender\", \"level\"]\n",
    "    users_table = df.selectExpr(users_fields).dropDuplicates()\n",
    "\n",
    "    users_table.write.parquet(output_data + 'users/')\n",
    "    \n",
    "    get_datetime = udf(date_format, TimestampType())\n",
    "    df = df.withColumn(\"start_time\", get_datetime('ts'))\n",
    "\n",
    "    time_table = df.select(\"start_time\").dropDuplicates() \\\n",
    "                .withColumn(\"hour\", hour(col(\"start_time\"))) \\\n",
    "                .withColumn(\"day\", dayofmonth(col(\"start_time\"))) \\\n",
    "                .withColumn(\"week\", weekofyear(col(\"start_time\"))) \\\n",
    "                .withColumn(\"month\", month(col(\"start_time\"))) \\\n",
    "                .withColumn(\"year\", year(col(\"start_time\"))) \\\n",
    "                .withColumn(\"weekday\", date_format(col(\"start_time\"), 'E'))\n",
    "    \n",
    "    time_table.write.partitionBy(\"year\", \"month\").parquet(output_data + 'time/')\n",
    "    \n",
    "    df_songs = spark.read.parquet(output_data + 'songs/*/*/*')\n",
    "\n",
    "    df_artists = spark.read.parquet(output_data + 'artists/*')\n",
    "\n",
    "    songs_logs = df.join(songs_df, (df.song == songs_df.title))\n",
    "    artists_songs_logs = songs_logs.join(df_artists, (songs_logs.artist == df_artists.name))\n",
    "\n",
    "    songplays = artists_songs_logs.join(\n",
    "        time_table,\n",
    "        artists_songs_logs.ts == time_table.start_time, 'left'\n",
    "    ).drop(artists_songs_logs.year)         \n",
    "                      \n",
    "    # extract columns from joined song and log datasets to create songplays table \n",
    "    songplays_table = songplays.select(\n",
    "        col('start_time').alias('start_time'),\n",
    "        col('userId').alias('user_id'),\n",
    "        col('level').alias('level'),\n",
    "        col('song_id').alias('song_id'),\n",
    "        col('artist_id').alias('artist_id'),\n",
    "        col('sessionId').alias('session_id'),\n",
    "        col('location').alias('location'),\n",
    "        col('userAgent').alias('user_agent'),\n",
    "        col('year').alias('year'),\n",
    "        col('month').alias('month'),\n",
    "    ).repartition(\"year\", \"month\")\n",
    "\n",
    "    # write songplays table to parquet files partitioned by year and month\n",
    "    songplays_table.write.partitionBy(\"year\", \"month\").parquet(output_data + 'songplays/')"
   ]
  },
  {
   "cell_type": "code",
   "execution_count": 6,
   "metadata": {},
   "outputs": [
    {
     "data": {
      "application/vnd.jupyter.widget-view+json": {
       "model_id": "ca348572065b48cf92ab1e27bc676f27",
       "version_major": 2,
       "version_minor": 0
      },
      "text/plain": [
       "VBox()"
      ]
     },
     "metadata": {},
     "output_type": "display_data"
    },
    {
     "data": {
      "application/vnd.jupyter.widget-view+json": {
       "model_id": "",
       "version_major": 2,
       "version_minor": 0
      },
      "text/plain": [
       "FloatProgress(value=0.0, bar_style='info', description='Progress:', layout=Layout(height='25px', width='50%'),…"
      ]
     },
     "metadata": {},
     "output_type": "display_data"
    }
   ],
   "source": [
    "def main():\n",
    "    \"\"\"\n",
    "        Extract songs and events data from S3, Transform it into dimensional tables format, and Load it back to S3 in Parquet format\n",
    "    \"\"\"\n",
    "    spark = create_spark_session()\n",
    "    input_data = \"s3a://udacity-dend/\"\n",
    "    output_data = \"s3a://sparkify-data-lake-dend/\"\n",
    "    \n",
    "    process_song_data(spark, input_data, output_data)    \n",
    "    process_log_data(spark, input_data, output_data)\n",
    "\n",
    "\n",
    "if __name__ == \"__main__\":\n",
    "    main()"
   ]
  },
  {
   "cell_type": "code",
   "execution_count": 7,
   "metadata": {},
   "outputs": [
    {
     "data": {
      "application/vnd.jupyter.widget-view+json": {
       "model_id": "c9de6cb7392c45d59be8e567422d49fc",
       "version_major": 2,
       "version_minor": 0
      },
      "text/plain": [
       "VBox()"
      ]
     },
     "metadata": {},
     "output_type": "display_data"
    },
    {
     "data": {
      "application/vnd.jupyter.widget-view+json": {
       "model_id": "",
       "version_major": 2,
       "version_minor": 0
      },
      "text/plain": [
       "FloatProgress(value=0.0, bar_style='info', description='Progress:', layout=Layout(height='25px', width='50%'),…"
      ]
     },
     "metadata": {},
     "output_type": "display_data"
    }
   ],
   "source": [
    "spark = create_spark_session()\n",
    "input_data = \"s3a://udacity-dend/\"\n",
    "output_data = \"s3a://sparkify-data-lake-dend/\""
   ]
  },
  {
   "cell_type": "code",
   "execution_count": 8,
   "metadata": {},
   "outputs": [
    {
     "data": {
      "application/vnd.jupyter.widget-view+json": {
       "model_id": "a45fd50759274613be7c881d42d782c4",
       "version_major": 2,
       "version_minor": 0
      },
      "text/plain": [
       "VBox()"
      ]
     },
     "metadata": {},
     "output_type": "display_data"
    },
    {
     "data": {
      "application/vnd.jupyter.widget-view+json": {
       "model_id": "",
       "version_major": 2,
       "version_minor": 0
      },
      "text/plain": [
       "FloatProgress(value=0.0, bar_style='info', description='Progress:', layout=Layout(height='25px', width='50%'),…"
      ]
     },
     "metadata": {},
     "output_type": "display_data"
    }
   ],
   "source": [
    "process_song_data(spark, input_data, output_data) "
   ]
  },
  {
   "cell_type": "code",
   "execution_count": null,
   "metadata": {},
   "outputs": [],
   "source": [
    "process_log_data(spark, input_data, output_data)"
   ]
  }
 ],
 "metadata": {
  "kernelspec": {
   "display_name": "Python 3",
   "language": "python",
   "name": "python3"
  },
  "language_info": {
   "codemirror_mode": {
    "name": "python",
    "version": 2
   },
   "mimetype": "text/x-python",
   "name": "pyspark",
   "pygments_lexer": "python2"
  }
 },
 "nbformat": 4,
 "nbformat_minor": 4
}
